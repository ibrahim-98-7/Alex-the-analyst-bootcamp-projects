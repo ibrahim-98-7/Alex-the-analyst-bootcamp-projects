{
 "cells": [
  {
   "cell_type": "markdown",
   "id": "70211fd4",
   "metadata": {},
   "source": [
    "# project-1\n",
    "\n",
    "# Build a calculator using Python that asks the user:\n",
    "\n",
    "##### 1.Which operation they would like to perform (addition, subtraction, division, multiplication, or checking even and odd numbers).\n",
    "##### 2.If they choose addition, subtraction, division, or multiplication, they will be required to enter two numbers.\n",
    "##### 3.If they choose to check for even and odd numbers, they will only need to enter one number.\n",
    "# Bonus:\n",
    "4. After each operation, ask the user if they would like to perform another operation. If yes, run the calculator again automatically. If no, end the program."
   ]
  },
  {
   "cell_type": "markdown",
   "id": "aa82e6e1",
   "metadata": {},
   "source": [
    "# the solution "
   ]
  },
  {
   "cell_type": "code",
   "execution_count": 6,
   "id": "f3fdc906",
   "metadata": {
    "scrolled": true
   },
   "outputs": [
    {
     "name": "stdout",
     "output_type": "stream",
     "text": [
      "Please type in the math operation you would like to complete: + for addition - for subtraction * for multiplication / for division % for check even or odd number : %\n",
      "Enter your first number: 10\n",
      "the number is even\n"
     ]
    }
   ],
   "source": [
    "\n",
    "\n",
    "    operation = input(\"Please type in the math operation you would like to complete: + for addition - for subtraction * for multiplication / for division % for check even or odd number : \")\n",
    "    if operation == \"%\":\n",
    "        number_1 = float(input('Enter your first number: '))\n",
    "    else:\n",
    "        number_1 = float(input('Enter your first number: '))\n",
    "        number_2 = float(input('Enter your second number: '))\n",
    "    if operation == '+':\n",
    "        print('{} + {} = '.format(number_1, number_2))\n",
    "        print(number_1 + number_2)\n",
    "    elif operation == '-':\n",
    "        print('{} - {} = '.format(number_1, number_2))\n",
    "        print(number_1 - number_2)\n",
    "    elif operation == '*':\n",
    "        print('{} * {} = '.format(number_1, number_2))\n",
    "        print(number_1 * number_2)\n",
    "    elif operation == '/':\n",
    "        print('{} / {} = '.format(number_1, number_2))\n",
    "        print(number_1 / number_2)\n",
    "    elif operation == \"%\":\n",
    "        for x in operation :\n",
    "            if (number_1 % 2 ) == 0:\n",
    "                print(\"the number is even\")\n",
    "            elif (number_1 % 2 ) == 1:\n",
    "                print(\"the number is odd\")\n",
    "       "
   ]
  },
  {
   "cell_type": "markdown",
   "id": "d294ad51",
   "metadata": {},
   "source": [
    "# relative solution to the bonus "
   ]
  },
  {
   "cell_type": "code",
   "execution_count": 4,
   "id": "85769621",
   "metadata": {},
   "outputs": [
    {
     "ename": "SyntaxError",
     "evalue": "invalid syntax (1015633382.py, line 16)",
     "output_type": "error",
     "traceback": [
      "\u001b[1;36m  File \u001b[1;32m\"C:\\Users\\SIGMA\\AppData\\Local\\Temp\\ipykernel_5756\\1015633382.py\"\u001b[1;36m, line \u001b[1;32m16\u001b[0m\n\u001b[1;33m    elif operation == '-':\u001b[0m\n\u001b[1;37m    ^\u001b[0m\n\u001b[1;31mSyntaxError\u001b[0m\u001b[1;31m:\u001b[0m invalid syntax\n"
     ]
    }
   ],
   "source": [
    "for x in bonus:\n",
    "    operation = input(\"Please type in the math operation you would like to complete: + for addition - for subtraction * for multiplication / for division % for check even or odd number : \")\n",
    "    if operation == \"%\":\n",
    "        number_1 = float(input('Enter your first number: '))\n",
    "    else:\n",
    "        number_1 = float(input('Enter your first number: '))\n",
    "        number_2 = float(input('Enter your second number: '))\n",
    "    if operation == '+':\n",
    "        print('{} + {} = '.format(number_1, number_2))\n",
    "        print(number_1 + number_2)\n",
    "    bonus = input(\" if you want to make anther operation yes to rebot no to end: \")\n",
    "    if bonus == yes:\n",
    "        continue \n",
    "    else:\n",
    "        break\n",
    "    elif operation == '-':\n",
    "        print('{} - {} = '.format(number_1, number_2))\n",
    "        print(number_1 - number_2)\n",
    "    bonus = input(\" if you want to make anther operation yes to rebot no to end: \")\n",
    "    if bonus == yes:\n",
    "        continue \n",
    "    else:\n",
    "        break\n",
    "\n",
    "    elif operation == '*':\n",
    "        print('{} * {} = '.format(number_1, number_2))\n",
    "        print(number_1 * number_2)\n",
    "    bonus = input(\" if you want to make anther operation yes to rebot no to end: \")\n",
    "    if bonus == yes:\n",
    "        continue \n",
    "    else:\n",
    "        break\n",
    "\n",
    "    elif operation == '/':\n",
    "        print('{} / {} = '.format(number_1, number_2))\n",
    "        print(number_1 / number_2)\n",
    "    bonus = input(\" if you want to make anther operation yes to rebot no to end: \")\n",
    "    if bonus == yes:\n",
    "        continue \n",
    "    else:\n",
    "        break\n",
    "\n",
    "    elif operation == \"%\":\n",
    "        for x in operation :\n",
    "            if (number_1 % 2 ) == 0:\n",
    "                print(\"the number is even\")\n",
    "            elif (number_1 % 2 ) == 1:\n",
    "                print(\"the number is odd\")\n",
    "    bonus = input(\" if you want to make anther operation yes to rebot no to end: \")\n",
    "    if bonus == yes:\n",
    "        continue \n",
    "    else:\n",
    "        break\n",
    "    \n",
    "    "
   ]
  },
  {
   "cell_type": "code",
   "execution_count": null,
   "id": "01afd5a1",
   "metadata": {},
   "outputs": [],
   "source": []
  }
 ],
 "metadata": {
  "kernelspec": {
   "display_name": "Python 3 (ipykernel)",
   "language": "python",
   "name": "python3"
  },
  "language_info": {
   "codemirror_mode": {
    "name": "ipython",
    "version": 3
   },
   "file_extension": ".py",
   "mimetype": "text/x-python",
   "name": "python",
   "nbconvert_exporter": "python",
   "pygments_lexer": "ipython3",
   "version": "3.9.13"
  }
 },
 "nbformat": 4,
 "nbformat_minor": 5
}
